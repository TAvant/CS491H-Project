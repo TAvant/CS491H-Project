{
 "metadata": {
  "name": "",
  "signature": "sha256:c9c4358839e81affd313833880a517217e37ad90d09502ca2cb3c2210067b3db"
 },
 "nbformat": 3,
 "nbformat_minor": 0,
 "worksheets": [
  {
   "cells": [
    {
     "cell_type": "heading",
     "level": 1,
     "metadata": {},
     "source": [
      "Giving Credit Where Credit is Due"
     ]
    },
    {
     "cell_type": "raw",
     "metadata": {},
     "source": [
      "So it wouldn't be right if we didn't take a moment to give the guy who had the original idea a little recognition. Paul Hawtin is the co-founder of the hedge fund Cayman Atlantic. There are some interesting details about the first hedge fund he founded, DMC, and then auctioned off, but I\u2019ll leave that up to you all to investigate, if you\u2019re interested. Anyway, here is Cayman Atlantic's website and some links to a few articles we saved, detailing the some of the companies' history. "
     ]
    },
    {
     "cell_type": "code",
     "collapsed": false,
     "input": [
      "from IPython.display import HTML\n",
      "HTML('<iframe src=http://www.caymanatlantic.com/?useformat=mobile width=1075 height=500></iframe>')"
     ],
     "language": "python",
     "metadata": {},
     "outputs": [
      {
       "html": [
        "<iframe src=http://www.caymanatlantic.com/?useformat=mobile width=1075 height=500></iframe>"
       ],
       "metadata": {},
       "output_type": "pyout",
       "prompt_number": 28,
       "text": [
        "<IPython.core.display.HTML at 0x103735690>"
       ]
      }
     ],
     "prompt_number": 28
    },
    {
     "cell_type": "code",
     "collapsed": false,
     "input": [
      "from IPython.display import FileLink, FileLinks\n",
      "FileLinks('DMC-CaymanAtlantic')"
     ],
     "language": "python",
     "metadata": {},
     "outputs": [
      {
       "html": [
        "DMC-CaymanAtlantic/<br>\n",
        "&nbsp;&nbsp;<a href='DMC-CaymanAtlantic/.DS_Store' target='_blank'>.DS_Store</a><br>\n",
        "&nbsp;&nbsp;<a href='DMC-CaymanAtlantic/DMCclosing.txt' target='_blank'>DMCclosing.txt</a><br>\n",
        "&nbsp;&nbsp;<a href='DMC-CaymanAtlantic/DMCopening.txt' target='_blank'>DMCopening.txt</a><br>\n",
        "&nbsp;&nbsp;<a href='DMC-CaymanAtlantic/DMCsold.txt' target='_blank'>DMCsold.txt</a><br>"
       ],
       "metadata": {},
       "output_type": "pyout",
       "prompt_number": 30,
       "text": [
        "DMC-CaymanAtlantic/\n",
        "  .DS_Store\n",
        "  DMCclosing.txt\n",
        "  DMCopening.txt\n",
        "  DMCsold.txt"
       ]
      }
     ],
     "prompt_number": 30
    },
    {
     "cell_type": "heading",
     "level": 1,
     "metadata": {},
     "source": [
      "Analysis Phase"
     ]
    },
    {
     "cell_type": "heading",
     "level": 3,
     "metadata": {},
     "source": [
      "Classification and Perdiction"
     ]
    },
    {
     "cell_type": "raw",
     "metadata": {},
     "source": [
      "So now that we have acquired, reformatted and cleaned our data; we can turn our attention to building the classifier and getting predictions. "
     ]
    }
   ],
   "metadata": {}
  }
 ]
}